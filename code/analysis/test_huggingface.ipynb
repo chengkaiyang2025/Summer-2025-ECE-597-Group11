{
 "cells": [
  {
   "metadata": {
    "ExecuteTime": {
     "end_time": "2025-05-09T06:09:50.222133Z",
     "start_time": "2025-05-09T06:09:47.405293Z"
    }
   },
   "cell_type": "code",
   "source": [
    "import pandas as pd\n",
    "from sklearn.cluster import KMeans\n",
    "import matplotlib.pyplot as plt\n",
    "\n",
    "# Step 1: 构造数据\n",
    "data = {\n",
    "    'x': [1, 2, 1, 8, 9, 8],\n",
    "    'y': [2, 1, 3, 8, 9, 10]\n",
    "}\n",
    "df = pd.DataFrame(data)\n",
    "df['row_id'] = range(len(df))\n",
    "\n",
    "# Step 2: 应用 KMeans 聚类\n",
    "kmeans = KMeans(n_clusters=2, random_state=0)\n",
    "kmeans.fit(df)\n",
    "\n",
    "# Step 3: 将聚类标签添加到 DataFrame\n",
    "df['cluster'] = kmeans.labels_\n",
    "\n",
    "# Step 4: 可视化聚类结果\n",
    "plt.figure(figsize=(8, 6))\n",
    "plt.scatter(df['x'], df['y'], c=df['cluster'], cmap='viridis', s=100)\n",
    "plt.scatter(kmeans.cluster_centers_[:, 0], kmeans.cluster_centers_[:, 1],\n",
    "            s=200, c='red', marker='X', label='Centroids')\n",
    "plt.title('KMeans Clustering Example')\n",
    "plt.xlabel('x')\n",
    "plt.ylabel('y')\n",
    "plt.legend()\n",
    "plt.grid(True)\n",
    "plt.show()\n",
    "\n",
    "# 打印结果\n",
    "print(df)\n"
   ],
   "id": "1226861f1bbaf195",
   "outputs": [
    {
     "name": "stderr",
     "output_type": "stream",
     "text": [
      "C:\\Users\\yck\\miniconda3\\Lib\\site-packages\\sklearn\\cluster\\_kmeans.py:1419: UserWarning: KMeans is known to have a memory leak on Windows with MKL, when there are less chunks than available threads. You can avoid it by setting the environment variable OMP_NUM_THREADS=1.\n",
      "  warnings.warn(\n"
     ]
    },
    {
     "data": {
      "text/plain": [
       "<Figure size 800x600 with 1 Axes>"
      ],
      "image/png": "[encoded data removed]"
     },
     "metadata": {},
     "output_type": "display_data"
    },
    {
     "name": "stdout",
     "output_type": "stream",
     "text": [
      "   x   y  row_id  cluster\n",
      "0  1   2       0        1\n",
      "1  2   1       1        1\n",
      "2  1   3       2        1\n",
      "3  8   8       3        0\n",
      "4  9   9       4        0\n",
      "5  8  10       5        0\n"
     ]
    }
   ],
   "execution_count": 1
  },
  {
   "metadata": {
    "ExecuteTime": {
     "end_time": "2025-05-09T06:09:50.267169Z",
     "start_time": "2025-05-09T06:09:50.251619Z"
    }
   },
   "cell_type": "code",
   "source": "df[df.cluster == 1]",
   "id": "a1788628e7c9c5e4",
   "outputs": [
    {
     "data": {
      "text/plain": [
       "   x  y  row_id  cluster\n",
       "0  1  2       0        1\n",
       "1  2  1       1        1\n",
       "2  1  3       2        1"
      ],
      "text/html": [
       "<div>\n",
       "<style scoped>\n",
       "    .dataframe tbody tr th:only-of-type {\n",
       "        vertical-align: middle;\n",
       "    }\n",
       "\n",
       "    .dataframe tbody tr th {\n",
       "        vertical-align: top;\n",
       "    }\n",
       "\n",
       "    .dataframe thead th {\n",
       "        text-align: right;\n",
       "    }\n",
       "</style>\n",
       "<table border=\"1\" class=\"dataframe\">\n",
       "  <thead>\n",
       "    <tr style=\"text-align: right;\">\n",
       "      <th></th>\n",
       "      <th>x</th>\n",
       "      <th>y</th>\n",
       "      <th>row_id</th>\n",
       "      <th>cluster</th>\n",
       "    </tr>\n",
       "  </thead>\n",
       "  <tbody>\n",
       "    <tr>\n",
       "      <th>0</th>\n",
       "      <td>1</td>\n",
       "      <td>2</td>\n",
       "      <td>0</td>\n",
       "      <td>1</td>\n",
       "    </tr>\n",
       "    <tr>\n",
       "      <th>1</th>\n",
       "      <td>2</td>\n",
       "      <td>1</td>\n",
       "      <td>1</td>\n",
       "      <td>1</td>\n",
       "    </tr>\n",
       "    <tr>\n",
       "      <th>2</th>\n",
       "      <td>1</td>\n",
       "      <td>3</td>\n",
       "      <td>2</td>\n",
       "      <td>1</td>\n",
       "    </tr>\n",
       "  </tbody>\n",
       "</table>\n",
       "</div>"
      ]
     },
     "execution_count": 2,
     "metadata": {},
     "output_type": "execute_result"
    }
   ],
   "execution_count": 2
  },
  {
   "metadata": {
    "ExecuteTime": {
     "end_time": "2025-05-09T06:09:50.727818Z",
     "start_time": "2025-05-09T06:09:50.723259Z"
    }
   },
   "cell_type": "code",
   "source": "",
   "id": "985bba0d4ecac18b",
   "outputs": [],
   "execution_count": null
  },
  {
   "metadata": {
    "ExecuteTime": {
     "end_time": "2025-05-09T06:09:50.863737Z",
     "start_time": "2025-05-09T06:09:50.854803Z"
    }
   },
   "cell_type": "code",
   "source": "df.to_html(\"D:\\\\GITHUB\\\\SpamEmailClassifier\\\\code\\\\analysis\\\\test.html\",)",
   "id": "42fa33092536ac90",
   "outputs": [],
   "execution_count": 3
  },
  {
   "metadata": {
    "ExecuteTime": {
     "end_time": "2025-05-09T06:09:58.454249Z",
     "start_time": "2025-05-09T06:09:50.909007Z"
    }
   },
   "cell_type": "code",
   "source": [
    "from transformers import BertTokenizer, BertForSequenceClassification\n",
    "import torch\n",
    "\n",
    "tokenizer = BertTokenizer.from_pretrained('fzn0x/bert-spam-classification-model')\n",
    "model = BertForSequenceClassification.from_pretrained('fzn0x/bert-spam-classification-model')\n",
    "\n",
    "device = torch.device(\"cuda\" if torch.cuda.is_available() else \"cpu\")\n",
    "model.to(device)\n",
    "model.eval()\n",
    "\n",
    "def model_predict(text: str):\n",
    "    inputs = tokenizer(text, return_tensors=\"pt\", truncation=True, padding=True).to(device)\n",
    "    with torch.no_grad():\n",
    "        outputs = model(**inputs)\n",
    "    logits = outputs.logits\n",
    "    prediction = torch.argmax(logits, dim=1).item()\n",
    "    return 'SPAM' if prediction == 1 else 'HAM'\n",
    "\n",
    "def predict():\n",
    "    text = \"Hello, do you know with this crypto you can be rich? contact us in 88888\"\n",
    "    predicted_label = model_predict(text)\n",
    "    print(f\"1. Predicted class: {predicted_label}\") # EXPECT: SPAM\n",
    "\n",
    "    text = \"Help me richard!\"\n",
    "    predicted_label = model_predict(text)\n",
    "    print(f\"2. Predicted class: {predicted_label}\") # EXPECT: HAM\n",
    "\n",
    "    text = \"You can buy loopstation for 100$, try buyloopstation.com\"\n",
    "    predicted_label = model_predict(text)\n",
    "    print(f\"3. Predicted class: {predicted_label}\") # EXPECT: SPAM\n",
    "\n",
    "    text = \"Mate, I try to contact your phone, where are you?\"\n",
    "    predicted_label = model_predict(text)\n",
    "    print(f\"4. Predicted class: {predicted_label}\") # EXPECT: HAM\n",
    "\n",
    "if __name__ == \"__main__\":\n",
    "    predict()"
   ],
   "id": "f0c69118ca9312a4",
   "outputs": [
    {
     "name": "stderr",
     "output_type": "stream",
     "text": [
      "C:\\Users\\yck\\miniconda3\\Lib\\site-packages\\tqdm\\auto.py:21: TqdmWarning: IProgress not found. Please update jupyter and ipywidgets. See https://ipywidgets.readthedocs.io/en/stable/user_install.html\n",
      "  from .autonotebook import tqdm as notebook_tqdm\n"
     ]
    },
    {
     "name": "stdout",
     "output_type": "stream",
     "text": [
      "1. Predicted class: SPAM\n",
      "2. Predicted class: HAM\n",
      "3. Predicted class: SPAM\n",
      "4. Predicted class: HAM\n"
     ]
    }
   ],
   "execution_count": 4
  },
  {
   "metadata": {
    "ExecuteTime": {
     "end_time": "2025-05-09T06:09:58.615691Z",
     "start_time": "2025-05-09T06:09:58.456280Z"
    }
   },
   "cell_type": "code",
   "source": [
    "model_predict(\"\"\"\n",
    "Hello,\n",
    "\n",
    "At this time, you won’t be eligible to access co-op job postings until Spring 2026, as a student in the MEng in Applied Data Science (MADS) program at UVic, co-op participation is to be only pursued after completing all your coursework – which is within the first 3 academic terms since your admission to your program. This structure ensures that students are well-prepared academically before entering the workforce.\n",
    "\"\"\")\n"
   ],
   "id": "e1b88f88d843e915",
   "outputs": [
    {
     "data": {
      "text/plain": [
       "'SPAM'"
      ]
     },
     "execution_count": 5,
     "metadata": {},
     "output_type": "execute_result"
    }
   ],
   "execution_count": 5
  },
  {
   "metadata": {
    "ExecuteTime": {
     "end_time": "2025-05-09T06:09:59.294845Z",
     "start_time": "2025-05-09T06:09:58.643646Z"
    }
   },
   "cell_type": "code",
   "source": "model_predict(\"Notice: This message was sent from outside the University of Victoria email system. Please be cautious with links and sensitive information.\\r\\n\\r\\n\\r\\n\\r\\n\\r\\n\\r\\nIf you no longer wish to receive ҽmаils from us, you can сliск here<http://www.edujour.net/usc75/zDMZW> to unѕubѕcrіbe.\\r\\nEducation Јournаl (EDU)\\r\\ne-IЅЅΝ:2327-2619\\r\\n        Open-aϲϲеss (ΟА) Јournаl\\r\\n\\r\\nPeer-rеᴠiеw Policy\\r\\n\\r\\n\\r\\nDear Edwards, Rebecca L.; Davis, Sarah ...,\\r\\nEDU has been a platform for scһоlars, experts, and rеsеаrch fellows to exchange ideas on education.\\r\\n\\r\\nІnvіtatіon of Becoming the Еdіtorial Bοarԁ Μеmbеr/Rҽνiҽwer\\r\\n\\r\\n\\r\\nEDU is finding active, qualified and high-profile scһоlars to ϳoіn as Еdіtorial Bοarԁ Μеmbеrs and Rҽνiҽwers.\\r\\nVia the following lіnк, you can find the steps for ϳoіning us:\\r\\nhttp://www.edujour.net/j3ef/zDMZW\\r\\n\\r\\n\\r\\nStart Your Ѕubmіssіon and Make Your Rҽsҽarcհ Known by More\\r\\nIt's a great honor to іnᴠіte you to ѕυbmit original рарers to EDU. If you have any interest, kindly сliск the following wеbѕitе to ѕυbmit the рарer:\\r\\nhttp://www.edujour.net/cgvy5/zDMZW\\r\\n\\r\\nThe Еdіtorial Bοarԁ/Rҽνiҽwer Team is an important factor that can influence the quality of a jοurnаl. Some of the Rҽνiҽwers and Еdіtorial Μеmbеrs of EDU are presented here.\\r\\nAnji BenhamedMBA Directorate, Ahlia University, Manama, Bahrain\\r\\nWilliam NketsiaSchool of Education, Western Sydney University, Penrith, Australia\\r\\nChengyong TanFaculty of Education, The University of Hong Kong, Hong Kong\\r\\nNorma Nelida Resendiz MelgarEducation Consultant for UNESCO and Secretary of Public Education, Mexico City, Mexico\\r\\n\\r\\nWai Foong LokDepartment of Science, Institute of Teacher Education Penang Campus, Gelugor, Malaysia\\r\\nAsep NurjaminPost Graduate School, Institut Pendidikan Indonesia, Garut, Indonesia\\r\\nMohammad Bani AmerMinistry of Education, Mutah University, Kerak, Jordan\\r\\nStine DegerbolBachelor Prgram in Psychomotor Therapy, University College Copenhagen, Kbh. N., Denmark\\r\\n\\r\\n\\r\\n\\r\\n\\r\\nThe tіtlе of your puƅlisհed artіclе is Exploring Student Engagement Factors in a Blended Undergraduate Course. and the аƅstrаct: Student engagement is an important factor in асаdemiс performance and comprises four dimensions: behavioural, cognitive, emotional (Fredricks et al., 2004), and agentic (Reeve, 2013). Blended courses provide unique opportunities for instructors to use trace data collected during learning to understand and support student engagement. This mixed-methods case study compared the student engagement of two groups of students with a history of low prior асаdemiс achievement. The groups were (a) students who ultimately did well in the course and (b) students who did poorly. Data came from two primary sources: (a) log file data from the course LMS, and (b) trace data derived from authentic learning tasks. Data represented five indicators: (a) behavioural engagement, (b) cognitive engagement, (c) emotions experienced during learning, (d) agency or proactive approaches to studying, and (e) overall асаdemiс engagement. Findings indicated students who moved achievement groups showed higher levels of behavioural engagement, cognitive engagement, and agentic or proactive approaches to studying and overall engagement. Additionally, students who remained in the low achievement group showed higher levels of positive deactivating emotions (e.g., relief). Implications for future rеsеаrch on student engagement and designing teaching to increase engagement in blended courses are discussed. (English)\\r\\n\\r\\n\\r\\n\\r\\n\\r\\n\\r\\n\")",
   "id": "6f342ea85a2a5658",
   "outputs": [
    {
     "data": {
      "text/plain": [
       "'SPAM'"
      ]
     },
     "execution_count": 6,
     "metadata": {},
     "output_type": "execute_result"
    }
   ],
   "execution_count": 6
  },
  {
   "metadata": {
    "ExecuteTime": {
     "end_time": "2025-05-09T06:09:59.324736Z",
     "start_time": "2025-05-09T06:09:59.320507Z"
    }
   },
   "cell_type": "code",
   "source": "",
   "id": "fe4f6345b27ad4f9",
   "outputs": [],
   "execution_count": null
  },
  {
   "metadata": {
    "ExecuteTime": {
     "end_time": "2025-05-09T06:09:59.770350Z",
     "start_time": "2025-05-09T06:09:59.336349Z"
    }
   },
   "cell_type": "code",
   "source": [
    "from transformers import AutoTokenizer, AutoModelForSequenceClassification\n",
    "import torch\n",
    "import torch.nn.functional as F\n",
    "\n",
    "model_name = \"D:\\GITHUB\\email-spam-detection-roberta\"\n",
    "tokenizer = AutoTokenizer.from_pretrained(model_name)\n",
    "model = AutoModelForSequenceClassification.from_pretrained(model_name)\n",
    "\n",
    "email_text = \"Congratulations! You have won a $1,000 Walmart gift card. Click here to claim now.\"\n",
    "\n"
   ],
   "id": "8d41e52374e96930",
   "outputs": [
    {
     "name": "stderr",
     "output_type": "stream",
     "text": [
      "<>:5: SyntaxWarning: invalid escape sequence '\\G'\n",
      "<>:5: SyntaxWarning: invalid escape sequence '\\G'\n",
      "C:\\Users\\yck\\AppData\\Local\\Temp\\ipykernel_21344\\1030513560.py:5: SyntaxWarning: invalid escape sequence '\\G'\n",
      "  model_name = \"D:\\GITHUB\\email-spam-detection-roberta\"\n"
     ]
    }
   ],
   "execution_count": 7
  },
  {
   "metadata": {
    "ExecuteTime": {
     "end_time": "2025-05-09T06:09:59.793276Z",
     "start_time": "2025-05-09T06:09:59.786168Z"
    }
   },
   "cell_type": "code",
   "source": [
    "def model2(content):\n",
    "\n",
    "    inputs = tokenizer(content, return_tensors=\"pt\", truncation=True, max_length=512,padding=True)\n",
    "\n",
    "    with torch.no_grad():\n",
    "        outputs = model(**inputs)\n",
    "        logits = outputs.logits\n",
    "        probs = F.softmax(logits, dim=-1)\n",
    "\n",
    "    labels = [\"ham\", \"spam\"]\n",
    "    predicted_label = labels[probs.argmax()]\n",
    "    confidence = probs.max().item()\n",
    "\n",
    "    print(f\"预测结果：{predicted_label}（置信度：{confidence:.2%}）\")"
   ],
   "id": "779668875aa30250",
   "outputs": [],
   "execution_count": 8
  },
  {
   "metadata": {
    "ExecuteTime": {
     "end_time": "2025-05-09T06:09:59.918212Z",
     "start_time": "2025-05-09T06:09:59.811719Z"
    }
   },
   "cell_type": "code",
   "source": [
    "# model2(email_text)\n",
    "message2=\"\"\"\n",
    "\n",
    "\"\"\"\n",
    "model2(message2)"
   ],
   "id": "9fe1928db6530a1f",
   "outputs": [
    {
     "name": "stdout",
     "output_type": "stream",
     "text": [
      "预测结果：spam（置信度：99.89%）\n"
     ]
    }
   ],
   "execution_count": 9
  },
  {
   "metadata": {
    "ExecuteTime": {
     "end_time": "2025-05-09T06:10:30.748189Z",
     "start_time": "2025-05-09T06:10:30.665111Z"
    }
   },
   "cell_type": "code",
   "source": "model2(message2)",
   "id": "47ecf31461a18291",
   "outputs": [
    {
     "name": "stdout",
     "output_type": "stream",
     "text": [
      "预测结果：spam（置信度：99.89%）\n"
     ]
    }
   ],
   "execution_count": 10
  }
 ],
 "metadata": {
  "kernelspec": {
   "name": "python3",
   "language": "python",
   "display_name": "Python 3 (ipykernel)"
  }
 },
 "nbformat": 5,
 "nbformat_minor": 9
}
