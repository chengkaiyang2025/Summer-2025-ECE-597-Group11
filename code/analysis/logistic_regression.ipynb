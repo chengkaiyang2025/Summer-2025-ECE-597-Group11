{
 "cells": [
  {
   "metadata": {},
   "cell_type": "markdown",
   "source": [
    "# Prepare the dataset and EDA\n",
    "\n",
    "## combine the datasets"
   ],
   "id": "145bb0230c48de86"
  },
  {
   "metadata": {},
   "cell_type": "code",
   "source": [
    "\n",
    "import pandas as pd\n",
    "\n",
    "df_features  = pd.read_json(\"D:\\GITHUB\\Summer-2025-ECE-597-Group11\\data\\output\\dataset_v20250611.json\")"
   ],
   "id": "3018e3e1e6099206",
   "outputs": [],
   "execution_count": null
  },
  {
   "metadata": {
    "ExecuteTime": {
     "end_time": "2025-06-19T05:29:03.274527Z",
     "start_time": "2025-06-19T05:29:02.217229Z"
    }
   },
   "cell_type": "code",
   "source": [
    "import pandas as pd\n",
    "\n",
    "df_with_no_feature  = pd.read_json(\"D:\\GITHUB\\Summer-2025-ECE-597-Group11\\data\\output\\dataset_v20250618.json\")"
   ],
   "id": "2bef27fb7e795a78",
   "outputs": [
    {
     "name": "stderr",
     "output_type": "stream",
     "text": [
      "<>:3: SyntaxWarning: invalid escape sequence '\\G'\n",
      "<>:3: SyntaxWarning: invalid escape sequence '\\G'\n",
      "C:\\Users\\yck\\AppData\\Local\\Temp\\ipykernel_32080\\1389715859.py:3: SyntaxWarning: invalid escape sequence '\\G'\n",
      "  df_with_no_feature  = pd.read_json(\"D:\\GITHUB\\Summer-2025-ECE-597-Group11\\data\\output\\dataset_v20250618.json\")\n"
     ]
    }
   ],
   "execution_count": 9
  },
  {
   "metadata": {
    "ExecuteTime": {
     "end_time": "2025-06-19T05:29:05.553420Z",
     "start_time": "2025-06-19T05:29:05.545728Z"
    }
   },
   "cell_type": "code",
   "source": "df_with_no_feature['label'].value_counts()",
   "id": "a0ba4778f929fa88",
   "outputs": [
    {
     "data": {
      "text/plain": [
       "label\n",
       "0    92695\n",
       "1     2576\n",
       "Name: count, dtype: int64"
      ]
     },
     "execution_count": 10,
     "metadata": {},
     "output_type": "execute_result"
    }
   ],
   "execution_count": 10
  },
  {
   "metadata": {},
   "cell_type": "markdown",
   "source": "## Extracting meaningful features",
   "id": "59ebe33a8feed191"
  },
  {
   "metadata": {},
   "cell_type": "code",
   "source": "df_features.info()\n",
   "id": "1e1893a932798834",
   "outputs": [],
   "execution_count": null
  },
  {
   "metadata": {},
   "cell_type": "markdown",
   "source": "## EDA",
   "id": "d89df065e4babcef"
  },
  {
   "metadata": {},
   "cell_type": "code",
   "source": [
    "\n",
    "import matplotlib.pyplot as plt\n",
    "import seaborn as sns\n",
    "\n",
    "features = df_features.columns.tolist()[3:]\n",
    "\n",
    "plt.figure(figsize=(25, 20))\n",
    "for i, feature in enumerate(features):\n",
    "    plt.subplot(4,4,i+1)\n",
    "    plt.hist(df_features[feature], bins=20, edgecolor='k')\n",
    "    plt.title(f\"{feature} Distribution\")\n"
   ],
   "id": "bb25a8899d98bc5e",
   "outputs": [],
   "execution_count": null
  },
  {
   "metadata": {},
   "cell_type": "code",
   "source": [
    "numeric_features = ['spam_word_count', 'spam_word_ratio',\"non_latin_count\",\"non_latin_distinct_count\",\"emoji_count\",\"emoji_distinct_count\"]\n",
    "\n",
    "for feature in numeric_features:\n",
    "    sns.boxplot(x='label', y=feature, data=df_features)\n",
    "    plt.title(f\"{feature} by Email Class\")\n",
    "    plt.show()\n"
   ],
   "id": "12f4eaf0a44391dc",
   "outputs": [],
   "execution_count": null
  },
  {
   "metadata": {},
   "cell_type": "code",
   "source": "df_features.info()",
   "id": "cbb65080d6e4d0b1",
   "outputs": [],
   "execution_count": null
  },
  {
   "metadata": {},
   "cell_type": "code",
   "source": [
    "binary_features = ['has_spam_word', 'has_link', 'has_email', 'has_number', 'has_dollar', 'has_emoji']\n",
    "\n",
    "for feature in binary_features:\n",
    "    sns.barplot(x='label', y=feature, data=df_features)\n",
    "    plt.title(f\"{feature} vs Spam Label\")\n",
    "    plt.ylabel(f\"Mean Value of {feature}\")\n",
    "    plt.xlabel(\"Label (0 = Not Spam, 1 = Spam)\")\n",
    "    plt.show()\n"
   ],
   "id": "48a923b12279f545",
   "outputs": [],
   "execution_count": null
  },
  {
   "metadata": {},
   "cell_type": "markdown",
   "source": "# Model and training",
   "id": "917a8c5c3e0b0bc5"
  },
  {
   "metadata": {},
   "cell_type": "code",
   "source": [
    "from sklearn.preprocessing import StandardScaler\n",
    "from sklearn.linear_model import LogisticRegression\n",
    "from sklearn.model_selection import train_test_split\n",
    "from sklearn.metrics import classification_report\n",
    "\n",
    "#\n",
    "feature_cols = [col for col in df_features.columns if col not in ['subject', 'body', 'label']]\n",
    "\n",
    "X = df_features[feature_cols]\n",
    "y = df_features['label']\n",
    "\n",
    "#\n",
    "scaler = StandardScaler()\n",
    "X_scaled = scaler.fit_transform(X)\n",
    "\n",
    "#\n",
    "X_train, X_test, y_train, y_test = train_test_split(X_scaled, y, test_size=0.2, random_state=42)\n",
    "\n",
    "#\n",
    "model = LogisticRegression(max_iter=1000)\n",
    "model.fit(X_train, y_train)\n",
    "\n",
    "#\n",
    "y_pred = model.predict(X_test)\n",
    "print(classification_report(y_test, y_pred))\n"
   ],
   "id": "46c1b3fbd4fe868d",
   "outputs": [],
   "execution_count": null
  },
  {
   "metadata": {},
   "cell_type": "code",
   "source": [
    "from sklearn.metrics import accuracy_score, precision_score, recall_score, f1_score, roc_auc_score, confusion_matrix, classification_report\n",
    "\n",
    "accuracy = accuracy_score(y_test, y_pred)\n",
    "precision = precision_score(y_test, y_pred)\n",
    "recall = recall_score(y_test, y_pred)\n",
    "f1 = f1_score(y_test, y_pred)\n",
    "\n",
    "y_proba = model.predict_proba(X_test)[:,1]\n",
    "roc_auc = roc_auc_score(y_test, y_proba)\n",
    "\n",
    "print(f\"Accuracy: {accuracy:.4f}\")\n",
    "print(f\"Precision: {precision:.4f}\")\n",
    "print(f\"Recall: {recall:.4f}\")\n",
    "print(f\"F1-score: {f1:.4f}\")\n",
    "print(f\"ROC AUC: {roc_auc:.4f}\")\n",
    "\n",
    "print(classification_report(y_test, y_pred))\n",
    "\n",
    "print(confusion_matrix(y_test, y_pred))\n"
   ],
   "id": "76f04ced7f73cb94",
   "outputs": [],
   "execution_count": null
  },
  {
   "metadata": {},
   "cell_type": "code",
   "source": "",
   "id": "507b9efe54f991a2",
   "outputs": [],
   "execution_count": null
  },
  {
   "metadata": {},
   "cell_type": "code",
   "source": [
    "# Define the feature columns (should match training)\n",
    "feature_cols = [col for col in df_features.columns if col not in ['subject', 'body', 'label']]\n",
    "\n",
    "# Predict on new input\n",
    "\n",
    "\n",
    "# Predict and view results\n",
    "feature_cols\n"
   ],
   "id": "6ccf3e08c18574e6",
   "outputs": [],
   "execution_count": null
  },
  {
   "metadata": {},
   "cell_type": "code",
   "source": "df_features.columns",
   "id": "909effa2353d7df5",
   "outputs": [],
   "execution_count": null
  },
  {
   "metadata": {},
   "cell_type": "markdown",
   "source": "# Export the model weight.",
   "id": "7842dec7fc0ae58d"
  },
  {
   "metadata": {},
   "cell_type": "code",
   "source": [
    "import os\n",
    "import joblib\n",
    "\n",
    "PATH_PKL = r'D:\\GITHUB\\Summer-2025-ECE-597-Group11\\code\\web_v2\\models\\parameters'\n",
    "VERSION = \"v2\"\n",
    "\n",
    "# Ensure directory exists\n",
    "os.makedirs(PATH_PKL, exist_ok=True)\n",
    "\n",
    "model_pkl = os.path.join(PATH_PKL, f'spam_classifier_model_{VERSION}.pkl')\n",
    "scalar_pkl = os.path.join(PATH_PKL, f'spam_scaler_{VERSION}.pkl')\n",
    "feature_txt = os.path.join(PATH_PKL, f'spam_feature_{VERSION}.txt')\n",
    "\n",
    "joblib.dump(model, model_pkl)\n",
    "joblib.dump(scaler, scalar_pkl)\n",
    "\n",
    "with open(feature_txt, 'w') as f:\n",
    "    for item in feature_cols:\n",
    "        f.write(f\"{item}\\n\")\n"
   ],
   "id": "dadea73b4ab98743",
   "outputs": [],
   "execution_count": null
  }
 ],
 "metadata": {
  "kernelspec": {
   "display_name": "Python 3",
   "language": "python",
   "name": "python3"
  },
  "language_info": {
   "codemirror_mode": {
    "name": "ipython",
    "version": 2
   },
   "file_extension": ".py",
   "mimetype": "text/x-python",
   "name": "python",
   "nbconvert_exporter": "python",
   "pygments_lexer": "ipython2",
   "version": "2.7.6"
  }
 },
 "nbformat": 4,
 "nbformat_minor": 5
}
