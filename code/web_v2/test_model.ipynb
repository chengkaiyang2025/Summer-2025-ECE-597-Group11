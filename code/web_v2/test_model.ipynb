{
 "cells": [
  {
   "cell_type": "code",
   "id": "initial_id",
   "metadata": {
    "collapsed": true,
    "ExecuteTime": {
     "end_time": "2025-06-19T05:48:29.816378Z",
     "start_time": "2025-06-19T05:48:29.810499Z"
    }
   },
   "source": [
    "from models.model_loader import p1\n",
    "\n",
    "\n",
    "# p1.predict_with_logistic_regression()"
   ],
   "outputs": [],
   "execution_count": 13
  },
  {
   "metadata": {
    "ExecuteTime": {
     "end_time": "2025-06-19T05:48:29.888740Z",
     "start_time": "2025-06-19T05:48:29.832768Z"
    }
   },
   "cell_type": "code",
   "source": [
    "import os\n",
    "from settings_v2 import get_pkl_path\n",
    "import joblib\n",
    "\n",
    "\n",
    "model_pkl = os.path.join(get_pkl_path(), f'naive_bayes_model.pkl')\n",
    "\n",
    "# Load model and vectorizer\n",
    "nb = joblib.load( os.path.join(get_pkl_path(), f'naive_bayes_model.pkl'))\n",
    "vectorizer = joblib.load(os.path.join(get_pkl_path(), f'tfidf_vectorizer.pkl'))\n",
    "\n",
    "# Example email input\n",
    "email_subject = \"Important Update\"\n",
    "email_body = \"Click here to verify your account immediately.\"\n",
    "email_text = email_subject + \" \" + email_body\n",
    "\n",
    "# Transform and predict\n",
    "X_input = vectorizer.transform([email_text])\n",
    "prediction = nb.predict(X_input)\n",
    "confidence = nb.predict_proba(X_input)\n"
   ],
   "id": "46f2668f6bf68eeb",
   "outputs": [
    {
     "name": "stdout",
     "output_type": "stream",
     "text": [
      "The label is [1], the confidence is  [[0.02072676 0.97927324]]\n"
     ]
    }
   ],
   "execution_count": 14
  },
  {
   "metadata": {
    "ExecuteTime": {
     "end_time": "2025-06-19T05:56:19.972897Z",
     "start_time": "2025-06-19T05:56:19.967825Z"
    }
   },
   "cell_type": "code",
   "source": "print(f\"The label is {prediction[0]}, the confidence is  {confidence[0][1]}\")",
   "id": "3839a7833bc4d4a",
   "outputs": [
    {
     "name": "stdout",
     "output_type": "stream",
     "text": [
      "The label is 1, the confidence is  0.979273241107374\n"
     ]
    }
   ],
   "execution_count": 22
  },
  {
   "metadata": {
    "ExecuteTime": {
     "end_time": "2025-06-19T05:48:42.492382Z",
     "start_time": "2025-06-19T05:48:42.485860Z"
    }
   },
   "cell_type": "code",
   "source": "",
   "id": "16d84f83932d98bd",
   "outputs": [
    {
     "data": {
      "text/plain": [
       "array([[0.02072676, 0.97927324]])"
      ]
     },
     "execution_count": 17,
     "metadata": {},
     "output_type": "execute_result"
    }
   ],
   "execution_count": 17
  }
 ],
 "metadata": {
  "kernelspec": {
   "display_name": "Python 3",
   "language": "python",
   "name": "python3"
  },
  "language_info": {
   "codemirror_mode": {
    "name": "ipython",
    "version": 2
   },
   "file_extension": ".py",
   "mimetype": "text/x-python",
   "name": "python",
   "nbconvert_exporter": "python",
   "pygments_lexer": "ipython2",
   "version": "2.7.6"
  }
 },
 "nbformat": 4,
 "nbformat_minor": 5
}
