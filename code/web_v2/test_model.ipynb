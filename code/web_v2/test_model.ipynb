{
 "cells": [
  {
   "cell_type": "code",
   "execution_count": null,
   "id": "initial_id",
   "metadata": {
    "collapsed": true
   },
   "outputs": [],
   "source": [
    "from models.model_loader import p1\n",
    "\n",
    "\n",
    "p1.predict_with_logistic_regression()"
   ]
  },
  {
   "metadata": {
    "ExecuteTime": {
     "end_time": "2025-06-18T18:36:04.503425Z",
     "start_time": "2025-06-18T18:36:04.447506Z"
    }
   },
   "cell_type": "code",
   "source": [
    "import os\n",
    "from settings_v2 import get_pkl_path\n",
    "import joblib\n",
    "\n",
    "\n",
    "model_pkl = os.path.join(get_pkl_path(), f'naive_bayes_model.pkl')\n",
    "\n",
    "# Load model and vectorizer\n",
    "nb = joblib.load( os.path.join(get_pkl_path(), f'naive_bayes_model.pkl'))\n",
    "vectorizer = joblib.load(os.path.join(get_pkl_path(), f'tfidf_vectorizer.pkl'))\n",
    "\n",
    "# Example email input\n",
    "email_subject = \"Important Update\"\n",
    "email_body = \"Click here to verify your account immediately.\"\n",
    "email_text = email_subject + \" \" + email_body\n",
    "\n",
    "# Transform and predict\n",
    "X_input = vectorizer.transform([email_text])\n",
    "prediction = nb.predict(X_input)\n",
    "confidence = nb.predict_proba(X_input)\n",
    "print(f\"The label is {prediction}, the confidence is  {confidence}\")"
   ],
   "id": "46f2668f6bf68eeb",
   "outputs": [
    {
     "name": "stdout",
     "output_type": "stream",
     "text": [
      "The label is [1], the confidence is  [[0.02072676 0.97927324]]\n"
     ]
    }
   ],
   "execution_count": 7
  },
  {
   "metadata": {
    "ExecuteTime": {
     "end_time": "2025-06-18T18:50:26.915260Z",
     "start_time": "2025-06-18T18:50:26.896989Z"
    }
   },
   "cell_type": "code",
   "source": "print(X_input)",
   "id": "3839a7833bc4d4a",
   "outputs": [
    {
     "name": "stdout",
     "output_type": "stream",
     "text": [
      "<Compressed Sparse Row sparse matrix of dtype 'float64'\n",
      "\twith 8 stored elements and shape (1, 14275)>\n",
      "  Coords\tValues\n",
      "  (0, 1364)\t0.22159855485020294\n",
      "  (0, 1391)\t0.5265223852948394\n",
      "  (0, 3191)\t0.24810038077386454\n",
      "  (0, 6986)\t0.31136301954593965\n",
      "  (0, 7007)\t0.31687903737055034\n",
      "  (0, 13363)\t0.2570937120035209\n",
      "  (0, 13633)\t0.3590697795522643\n",
      "  (0, 13634)\t0.4687503831747604\n"
     ]
    }
   ],
   "execution_count": 11
  }
 ],
 "metadata": {
  "kernelspec": {
   "display_name": "Python 3",
   "language": "python",
   "name": "python3"
  },
  "language_info": {
   "codemirror_mode": {
    "name": "ipython",
    "version": 2
   },
   "file_extension": ".py",
   "mimetype": "text/x-python",
   "name": "python",
   "nbconvert_exporter": "python",
   "pygments_lexer": "ipython2",
   "version": "2.7.6"
  }
 },
 "nbformat": 4,
 "nbformat_minor": 5
}
